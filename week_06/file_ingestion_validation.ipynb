{
 "cells": [
  {
   "cell_type": "markdown",
   "metadata": {},
   "source": [
    "## File Ingestion and Schema validation"
   ]
  },
  {
   "cell_type": "markdown",
   "metadata": {},
   "source": [
    "#### The dataset\n",
    "Survival Analysis Synthetic Data (6GB)\n",
    "\n",
    "Link: https://www.kaggle.com/datasets/louise2001/survival-analysis-synthetic-data?resource=download"
   ]
  },
  {
   "cell_type": "code",
   "execution_count": 19,
   "metadata": {},
   "outputs": [],
   "source": [
    "import os\n",
    "import time\n",
    "from dask import dataframe\n",
    "import pandas as pd\n",
    "import logging\n",
    "import yaml\n",
    "import re\n",
    "import utility as util"
   ]
  },
  {
   "cell_type": "code",
   "execution_count": 2,
   "metadata": {},
   "outputs": [
    {
     "data": {
      "text/plain": [
       "6525517581"
      ]
     },
     "execution_count": 2,
     "metadata": {},
     "output_type": "execute_result"
    }
   ],
   "source": [
    "# File size\n",
    "os.path.getsize('C:/Users/assoma/Desktop/survival_data.csv')"
   ]
  },
  {
   "cell_type": "code",
   "execution_count": 4,
   "metadata": {},
   "outputs": [
    {
     "name": "stdout",
     "output_type": "stream",
     "text": [
      "Time to read the csv file with dask:  0.032982587814331055 sec\n"
     ]
    }
   ],
   "source": [
    "# Reading with dask\n",
    "start = time.time()\n",
    "dask_df = dataframe.read_csv('C:/Users/assoma/Desktop/survival_data.csv')\n",
    "end = time.time()\n",
    "print(\"Time to read the csv file with dask: \",(end-start),\"sec\")"
   ]
  },
  {
   "cell_type": "code",
   "execution_count": null,
   "metadata": {},
   "outputs": [],
   "source": [
    "# Reading with modin and ray\n",
    "import modin.pandas as mpd\n",
    "import ray\n",
    "ray.shutdown()\n",
    "ray.init()\n",
    "start = time.time()\n",
    "modin_df = mpd.read_csv('C:/Users/assoma/Desktop/survival_data.csv')\n",
    "end = time.time()\n",
    "print(\"Time to read the csv file with modin and ray: \",(end-start),\"sec\")"
   ]
  },
  {
   "cell_type": "code",
   "execution_count": 4,
   "metadata": {},
   "outputs": [],
   "source": [
    "# Reading with pandas\n",
    "start = time.time()\n",
    "pandas_df = pd.read_csv('C:/Users/assoma/Desktop/survival_data.csv')\n",
    "end = time.time()\n",
    "print(\"Time to read the csv file with pandas: \",(end-start),\"sec\")"
   ]
  },
  {
   "cell_type": "markdown",
   "metadata": {},
   "source": [
    "Desk was the fastest"
   ]
  },
  {
   "cell_type": "code",
   "execution_count": 5,
   "metadata": {},
   "outputs": [
    {
     "data": {
      "text/html": [
       "<div>\n",
       "<style scoped>\n",
       "    .dataframe tbody tr th:only-of-type {\n",
       "        vertical-align: middle;\n",
       "    }\n",
       "\n",
       "    .dataframe tbody tr th {\n",
       "        vertical-align: top;\n",
       "    }\n",
       "\n",
       "    .dataframe thead th {\n",
       "        text-align: right;\n",
       "    }\n",
       "</style>\n",
       "<table border=\"1\" class=\"dataframe\">\n",
       "  <thead>\n",
       "    <tr style=\"text-align: right;\">\n",
       "      <th></th>\n",
       "      <th>Unnamed: 0</th>\n",
       "      <th>age_start_observed</th>\n",
       "      <th>age_end</th>\n",
       "      <th>is_truncated</th>\n",
       "      <th>is_censored</th>\n",
       "      <th>is_dead</th>\n",
       "      <th>date_start_observed</th>\n",
       "      <th>date_end_observed</th>\n",
       "    </tr>\n",
       "  </thead>\n",
       "  <tbody>\n",
       "    <tr>\n",
       "      <th>0</th>\n",
       "      <td>15113102</td>\n",
       "      <td>0.000000</td>\n",
       "      <td>9.097335</td>\n",
       "      <td>False</td>\n",
       "      <td>True</td>\n",
       "      <td>False</td>\n",
       "      <td>1908-11-17</td>\n",
       "      <td>1917-12-22</td>\n",
       "    </tr>\n",
       "    <tr>\n",
       "      <th>1</th>\n",
       "      <td>41505894</td>\n",
       "      <td>0.000000</td>\n",
       "      <td>64.486689</td>\n",
       "      <td>False</td>\n",
       "      <td>True</td>\n",
       "      <td>False</td>\n",
       "      <td>1828-09-13</td>\n",
       "      <td>1893-03-10</td>\n",
       "    </tr>\n",
       "    <tr>\n",
       "      <th>2</th>\n",
       "      <td>24774171</td>\n",
       "      <td>0.000000</td>\n",
       "      <td>33.071552</td>\n",
       "      <td>False</td>\n",
       "      <td>True</td>\n",
       "      <td>False</td>\n",
       "      <td>1911-02-07</td>\n",
       "      <td>1944-03-04</td>\n",
       "    </tr>\n",
       "    <tr>\n",
       "      <th>3</th>\n",
       "      <td>97834936</td>\n",
       "      <td>34.834566</td>\n",
       "      <td>68.778258</td>\n",
       "      <td>True</td>\n",
       "      <td>True</td>\n",
       "      <td>False</td>\n",
       "      <td>1820-01-01</td>\n",
       "      <td>1853-12-10</td>\n",
       "    </tr>\n",
       "    <tr>\n",
       "      <th>4</th>\n",
       "      <td>45793809</td>\n",
       "      <td>0.000000</td>\n",
       "      <td>95.948358</td>\n",
       "      <td>False</td>\n",
       "      <td>False</td>\n",
       "      <td>True</td>\n",
       "      <td>1870-05-29</td>\n",
       "      <td>1966-05-11</td>\n",
       "    </tr>\n",
       "  </tbody>\n",
       "</table>\n",
       "</div>"
      ],
      "text/plain": [
       "   Unnamed: 0  age_start_observed    age_end  is_truncated  is_censored  \\\n",
       "0    15113102            0.000000   9.097335         False         True   \n",
       "1    41505894            0.000000  64.486689         False         True   \n",
       "2    24774171            0.000000  33.071552         False         True   \n",
       "3    97834936           34.834566  68.778258          True         True   \n",
       "4    45793809            0.000000  95.948358         False        False   \n",
       "\n",
       "   is_dead date_start_observed date_end_observed  \n",
       "0    False          1908-11-17        1917-12-22  \n",
       "1    False          1828-09-13        1893-03-10  \n",
       "2    False          1911-02-07        1944-03-04  \n",
       "3    False          1820-01-01        1853-12-10  \n",
       "4     True          1870-05-29        1966-05-11  "
      ]
     },
     "execution_count": 5,
     "metadata": {},
     "output_type": "execute_result"
    }
   ],
   "source": [
    "# Check the data set\n",
    "dask_df.head()"
   ]
  },
  {
   "cell_type": "code",
   "execution_count": 6,
   "metadata": {},
   "outputs": [
    {
     "data": {
      "text/plain": [
       "<bound method DataFrame.info of Dask DataFrame Structure:\n",
       "                Unnamed: 0 age_start_observed  age_end is_truncated is_censored is_dead date_start_observed date_end_observed\n",
       "npartitions=102                                                                                                              \n",
       "                     int64            float64  float64         bool        bool    bool              object            object\n",
       "                       ...                ...      ...          ...         ...     ...                 ...               ...\n",
       "...                    ...                ...      ...          ...         ...     ...                 ...               ...\n",
       "                       ...                ...      ...          ...         ...     ...                 ...               ...\n",
       "                       ...                ...      ...          ...         ...     ...                 ...               ...\n",
       "Dask Name: read-csv, 102 tasks>"
      ]
     },
     "execution_count": 6,
     "metadata": {},
     "output_type": "execute_result"
    }
   ],
   "source": [
    "dask_df.info"
   ]
  },
  {
   "cell_type": "code",
   "execution_count": 7,
   "metadata": {},
   "outputs": [
    {
     "data": {
      "text/plain": [
       "88809774"
      ]
     },
     "execution_count": 7,
     "metadata": {},
     "output_type": "execute_result"
    }
   ],
   "source": [
    "# No. of rows\n",
    "len(dask_df.index)"
   ]
  },
  {
   "cell_type": "code",
   "execution_count": 8,
   "metadata": {},
   "outputs": [
    {
     "data": {
      "text/plain": [
       "8"
      ]
     },
     "execution_count": 8,
     "metadata": {},
     "output_type": "execute_result"
    }
   ],
   "source": [
    "# No. of columns\n",
    "len(dask_df.columns)"
   ]
  },
  {
   "cell_type": "code",
   "execution_count": 10,
   "metadata": {},
   "outputs": [],
   "source": [
    "# Rename the first column\n",
    "dask_df.columns=dask_df.rename(columns = {'Unnamed: 0':'id'})"
   ]
  },
  {
   "cell_type": "code",
   "execution_count": 11,
   "metadata": {},
   "outputs": [
    {
     "name": "stderr",
     "output_type": "stream",
     "text": [
      "<ipython-input-11-50cebf645bc5>:2: FutureWarning: The default value of regex will change from True to False in a future version.\n",
      "  dask_df.columns=dask_df.columns.str.replace('[_]',' ')\n"
     ]
    }
   ],
   "source": [
    "# Remove special character from columns\n",
    "dask_df.columns=dask_df.columns.str.replace('[_]',' ')"
   ]
  },
  {
   "cell_type": "code",
   "execution_count": 12,
   "metadata": {},
   "outputs": [],
   "source": [
    "# Capitlize the first letter of each column\n",
    "dask_df.columns = dask_df.columns.str.title()"
   ]
  },
  {
   "cell_type": "code",
   "execution_count": 13,
   "metadata": {},
   "outputs": [],
   "source": [
    "# Remove white space from columns\n",
    "dask_df.columns = dask_df.columns.str.replace(' ', '')"
   ]
  },
  {
   "cell_type": "code",
   "execution_count": 14,
   "metadata": {},
   "outputs": [
    {
     "data": {
      "text/html": [
       "<div>\n",
       "<style scoped>\n",
       "    .dataframe tbody tr th:only-of-type {\n",
       "        vertical-align: middle;\n",
       "    }\n",
       "\n",
       "    .dataframe tbody tr th {\n",
       "        vertical-align: top;\n",
       "    }\n",
       "\n",
       "    .dataframe thead th {\n",
       "        text-align: right;\n",
       "    }\n",
       "</style>\n",
       "<table border=\"1\" class=\"dataframe\">\n",
       "  <thead>\n",
       "    <tr style=\"text-align: right;\">\n",
       "      <th></th>\n",
       "      <th>Id</th>\n",
       "      <th>AgeStartObserved</th>\n",
       "      <th>AgeEnd</th>\n",
       "      <th>IsTruncated</th>\n",
       "      <th>IsCensored</th>\n",
       "      <th>IsDead</th>\n",
       "      <th>DateStartObserved</th>\n",
       "      <th>DateEndObserved</th>\n",
       "    </tr>\n",
       "  </thead>\n",
       "  <tbody>\n",
       "    <tr>\n",
       "      <th>0</th>\n",
       "      <td>15113102</td>\n",
       "      <td>0.000000</td>\n",
       "      <td>9.097335</td>\n",
       "      <td>False</td>\n",
       "      <td>True</td>\n",
       "      <td>False</td>\n",
       "      <td>1908-11-17</td>\n",
       "      <td>1917-12-22</td>\n",
       "    </tr>\n",
       "    <tr>\n",
       "      <th>1</th>\n",
       "      <td>41505894</td>\n",
       "      <td>0.000000</td>\n",
       "      <td>64.486689</td>\n",
       "      <td>False</td>\n",
       "      <td>True</td>\n",
       "      <td>False</td>\n",
       "      <td>1828-09-13</td>\n",
       "      <td>1893-03-10</td>\n",
       "    </tr>\n",
       "    <tr>\n",
       "      <th>2</th>\n",
       "      <td>24774171</td>\n",
       "      <td>0.000000</td>\n",
       "      <td>33.071552</td>\n",
       "      <td>False</td>\n",
       "      <td>True</td>\n",
       "      <td>False</td>\n",
       "      <td>1911-02-07</td>\n",
       "      <td>1944-03-04</td>\n",
       "    </tr>\n",
       "    <tr>\n",
       "      <th>3</th>\n",
       "      <td>97834936</td>\n",
       "      <td>34.834566</td>\n",
       "      <td>68.778258</td>\n",
       "      <td>True</td>\n",
       "      <td>True</td>\n",
       "      <td>False</td>\n",
       "      <td>1820-01-01</td>\n",
       "      <td>1853-12-10</td>\n",
       "    </tr>\n",
       "    <tr>\n",
       "      <th>4</th>\n",
       "      <td>45793809</td>\n",
       "      <td>0.000000</td>\n",
       "      <td>95.948358</td>\n",
       "      <td>False</td>\n",
       "      <td>False</td>\n",
       "      <td>True</td>\n",
       "      <td>1870-05-29</td>\n",
       "      <td>1966-05-11</td>\n",
       "    </tr>\n",
       "  </tbody>\n",
       "</table>\n",
       "</div>"
      ],
      "text/plain": [
       "         Id  AgeStartObserved     AgeEnd  IsTruncated  IsCensored  IsDead  \\\n",
       "0  15113102          0.000000   9.097335        False        True   False   \n",
       "1  41505894          0.000000  64.486689        False        True   False   \n",
       "2  24774171          0.000000  33.071552        False        True   False   \n",
       "3  97834936         34.834566  68.778258         True        True   False   \n",
       "4  45793809          0.000000  95.948358        False       False    True   \n",
       "\n",
       "  DateStartObserved DateEndObserved  \n",
       "0        1908-11-17      1917-12-22  \n",
       "1        1828-09-13      1893-03-10  \n",
       "2        1911-02-07      1944-03-04  \n",
       "3        1820-01-01      1853-12-10  \n",
       "4        1870-05-29      1966-05-11  "
      ]
     },
     "execution_count": 14,
     "metadata": {},
     "output_type": "execute_result"
    }
   ],
   "source": [
    "dask_df.head()"
   ]
  },
  {
   "cell_type": "code",
   "execution_count": 15,
   "metadata": {},
   "outputs": [
    {
     "data": {
      "text/plain": [
       "Index(['Id', 'AgeStartObserved', 'AgeEnd', 'IsTruncated', 'IsCensored',\n",
       "       'IsDead', 'DateStartObserved', 'DateEndObserved'],\n",
       "      dtype='object')"
      ]
     },
     "execution_count": 15,
     "metadata": {},
     "output_type": "execute_result"
    }
   ],
   "source": [
    "dask_df.columns"
   ]
  },
  {
   "cell_type": "markdown",
   "metadata": {},
   "source": [
    "## Validation"
   ]
  },
  {
   "cell_type": "code",
   "execution_count": 16,
   "metadata": {},
   "outputs": [
    {
     "name": "stdout",
     "output_type": "stream",
     "text": [
      "Overwriting utility.py\n"
     ]
    }
   ],
   "source": [
    "%%writefile utility.py\n",
    "\n",
    "\n",
    "################\n",
    "# File Reading #\n",
    "################\n",
    "\n",
    "def read_config_file(filepath):\n",
    "    with open(filepath, 'r') as stream:\n",
    "        try:\n",
    "            return yaml.safe_load(stream)\n",
    "        except yaml.YAMLError as exc:\n",
    "            logging.error(exc)\n",
    "\n",
    "\n",
    "def replacer(string, char):\n",
    "    pattern = char + '{2,}'\n",
    "    string = re.sub(pattern, char, string) \n",
    "    return string\n",
    "\n",
    "def col_header_val(df,table_config):\n",
    "    '''\n",
    "    replace whitespaces in the column\n",
    "    and standardized column names\n",
    "    '''\n",
    "    df.columns = df.columns.str.lower()\n",
    "    df.columns = df.columns.str.replace('[^\\w]','_',regex=True)\n",
    "    df.columns = list(map(lambda x: x.strip('_'), list(df.columns)))\n",
    "    df.columns = list(map(lambda x: replacer(x,'_'), list(df.columns)))\n",
    "    expected_col = list(map(lambda x: x.lower(),  table_config['columns']))\n",
    "    expected_col.sort()\n",
    "    df.columns =list(map(lambda x: x.lower(), list(df.columns)))\n",
    "    df = df.reindex(sorted(df.columns), axis=1)\n",
    "    if len(df.columns) == len(expected_col) and list(expected_col)  == list(df.columns):\n",
    "        print(\"column name and column length validation passed\")\n",
    "        return 1\n",
    "    else:\n",
    "        print(\"column name and column length validation failed\")\n",
    "        mismatched_columns_file = list(set(df.columns).difference(expected_col))\n",
    "        print(\"Following File columns are not in the YAML file\",mismatched_columns_file)\n",
    "        missing_YAML_file = list(set(expected_col).difference(df.columns))\n",
    "        print(\"Following YAML columns are not in the file uploaded\",missing_YAML_file)\n",
    "        logging.info(f'df columns: {df.columns}')\n",
    "        logging.info(f'expected columns: {expected_col}')\n",
    "        return 0"
   ]
  },
  {
   "cell_type": "markdown",
   "metadata": {},
   "source": [
    "Write YML file"
   ]
  },
  {
   "cell_type": "code",
   "execution_count": 17,
   "metadata": {},
   "outputs": [
    {
     "name": "stdout",
     "output_type": "stream",
     "text": [
      "Overwriting file.yaml\n"
     ]
    }
   ],
   "source": [
    "%%writefile file.yaml\n",
    "file_type: csv\n",
    "dataset_name: file\n",
    "file_name: survival_data\n",
    "table_name: edsurv\n",
    "inbound_delimiter: \",\"\n",
    "outbound_delimiter: \"|\"\n",
    "skip_leading_rows: 1\n",
    "columns: \n",
    "    - Id\n",
    "    - AgeStartObserved\n",
    "    - AgeEnd\n",
    "    - IsTruncated\n",
    "    - IsCensored\n",
    "    - IsDead\n",
    "    - DateStartObserved\n",
    "    - DateEndObserved"
   ]
  },
  {
   "cell_type": "code",
   "execution_count": null,
   "metadata": {},
   "outputs": [],
   "source": [
    "# Read config file\n",
    "config_data = util.read_config_file(\"file.yaml\")"
   ]
  },
  {
   "cell_type": "code",
   "execution_count": null,
   "metadata": {},
   "outputs": [],
   "source": [
    "config_data['inbound_delimiter']"
   ]
  },
  {
   "cell_type": "code",
   "execution_count": null,
   "metadata": {},
   "outputs": [],
   "source": [
    "#inspecting data of config file\n",
    "config_data"
   ]
  },
  {
   "cell_type": "code",
   "execution_count": null,
   "metadata": {},
   "outputs": [],
   "source": [
    "# Normal reading process of the file\n",
    "df = dataframe.read_csv('C:/Users/assoma/Desktop/survival_data.csv')\n",
    "df.head()"
   ]
  },
  {
   "cell_type": "code",
   "execution_count": null,
   "metadata": {},
   "outputs": [],
   "source": [
    "# read the file using config file\n",
    "file_type = config_data['file_type']\n",
    "source_file = \"./\" + config_data['file_name'] + f'.{file_type}'\n",
    "#print(\"\",source_file)\n",
    "df = pd.read_csv(source_file,config_data['inbound_delimiter'])\n",
    "df.head()"
   ]
  },
  {
   "cell_type": "code",
   "execution_count": null,
   "metadata": {},
   "outputs": [],
   "source": [
    "#validate the header of the file\n",
    "util.col_header_val(df,config_data)"
   ]
  },
  {
   "cell_type": "code",
   "execution_count": null,
   "metadata": {},
   "outputs": [],
   "source": [
    "print(\"columns of files are:\" ,df.columns)\n",
    "print(\"columns of YAML are:\" ,config_data['columns'])"
   ]
  },
  {
   "cell_type": "code",
   "execution_count": null,
   "metadata": {},
   "outputs": [],
   "source": [
    "if util.col_header_val(df,config_data)==0:\n",
    "    print(\"validation failed\")\n",
    "    # write code to reject the file\n",
    "else:\n",
    "    print(\"col validation passed\")\n",
    "    # write the code to perform further action\n",
    "    # in the pipleine"
   ]
  },
  {
   "cell_type": "code",
   "execution_count": 25,
   "metadata": {},
   "outputs": [
    {
     "data": {
      "text/plain": [
       "['c:/Users/assoma/Desktop/survival_data.csv.gz\\\\000.part',\n",
       " 'c:/Users/assoma/Desktop/survival_data.csv.gz\\\\001.part',\n",
       " 'c:/Users/assoma/Desktop/survival_data.csv.gz\\\\002.part',\n",
       " 'c:/Users/assoma/Desktop/survival_data.csv.gz\\\\003.part',\n",
       " 'c:/Users/assoma/Desktop/survival_data.csv.gz\\\\004.part',\n",
       " 'c:/Users/assoma/Desktop/survival_data.csv.gz\\\\005.part',\n",
       " 'c:/Users/assoma/Desktop/survival_data.csv.gz\\\\006.part',\n",
       " 'c:/Users/assoma/Desktop/survival_data.csv.gz\\\\007.part',\n",
       " 'c:/Users/assoma/Desktop/survival_data.csv.gz\\\\008.part',\n",
       " 'c:/Users/assoma/Desktop/survival_data.csv.gz\\\\009.part',\n",
       " 'c:/Users/assoma/Desktop/survival_data.csv.gz\\\\010.part',\n",
       " 'c:/Users/assoma/Desktop/survival_data.csv.gz\\\\011.part',\n",
       " 'c:/Users/assoma/Desktop/survival_data.csv.gz\\\\012.part',\n",
       " 'c:/Users/assoma/Desktop/survival_data.csv.gz\\\\013.part',\n",
       " 'c:/Users/assoma/Desktop/survival_data.csv.gz\\\\014.part',\n",
       " 'c:/Users/assoma/Desktop/survival_data.csv.gz\\\\015.part',\n",
       " 'c:/Users/assoma/Desktop/survival_data.csv.gz\\\\016.part',\n",
       " 'c:/Users/assoma/Desktop/survival_data.csv.gz\\\\017.part',\n",
       " 'c:/Users/assoma/Desktop/survival_data.csv.gz\\\\018.part',\n",
       " 'c:/Users/assoma/Desktop/survival_data.csv.gz\\\\019.part',\n",
       " 'c:/Users/assoma/Desktop/survival_data.csv.gz\\\\020.part',\n",
       " 'c:/Users/assoma/Desktop/survival_data.csv.gz\\\\021.part',\n",
       " 'c:/Users/assoma/Desktop/survival_data.csv.gz\\\\022.part',\n",
       " 'c:/Users/assoma/Desktop/survival_data.csv.gz\\\\023.part',\n",
       " 'c:/Users/assoma/Desktop/survival_data.csv.gz\\\\024.part',\n",
       " 'c:/Users/assoma/Desktop/survival_data.csv.gz\\\\025.part',\n",
       " 'c:/Users/assoma/Desktop/survival_data.csv.gz\\\\026.part',\n",
       " 'c:/Users/assoma/Desktop/survival_data.csv.gz\\\\027.part',\n",
       " 'c:/Users/assoma/Desktop/survival_data.csv.gz\\\\028.part',\n",
       " 'c:/Users/assoma/Desktop/survival_data.csv.gz\\\\029.part',\n",
       " 'c:/Users/assoma/Desktop/survival_data.csv.gz\\\\030.part',\n",
       " 'c:/Users/assoma/Desktop/survival_data.csv.gz\\\\031.part',\n",
       " 'c:/Users/assoma/Desktop/survival_data.csv.gz\\\\032.part',\n",
       " 'c:/Users/assoma/Desktop/survival_data.csv.gz\\\\033.part',\n",
       " 'c:/Users/assoma/Desktop/survival_data.csv.gz\\\\034.part',\n",
       " 'c:/Users/assoma/Desktop/survival_data.csv.gz\\\\035.part',\n",
       " 'c:/Users/assoma/Desktop/survival_data.csv.gz\\\\036.part',\n",
       " 'c:/Users/assoma/Desktop/survival_data.csv.gz\\\\037.part',\n",
       " 'c:/Users/assoma/Desktop/survival_data.csv.gz\\\\038.part',\n",
       " 'c:/Users/assoma/Desktop/survival_data.csv.gz\\\\039.part',\n",
       " 'c:/Users/assoma/Desktop/survival_data.csv.gz\\\\040.part',\n",
       " 'c:/Users/assoma/Desktop/survival_data.csv.gz\\\\041.part',\n",
       " 'c:/Users/assoma/Desktop/survival_data.csv.gz\\\\042.part',\n",
       " 'c:/Users/assoma/Desktop/survival_data.csv.gz\\\\043.part',\n",
       " 'c:/Users/assoma/Desktop/survival_data.csv.gz\\\\044.part',\n",
       " 'c:/Users/assoma/Desktop/survival_data.csv.gz\\\\045.part',\n",
       " 'c:/Users/assoma/Desktop/survival_data.csv.gz\\\\046.part',\n",
       " 'c:/Users/assoma/Desktop/survival_data.csv.gz\\\\047.part',\n",
       " 'c:/Users/assoma/Desktop/survival_data.csv.gz\\\\048.part',\n",
       " 'c:/Users/assoma/Desktop/survival_data.csv.gz\\\\049.part',\n",
       " 'c:/Users/assoma/Desktop/survival_data.csv.gz\\\\050.part',\n",
       " 'c:/Users/assoma/Desktop/survival_data.csv.gz\\\\051.part',\n",
       " 'c:/Users/assoma/Desktop/survival_data.csv.gz\\\\052.part',\n",
       " 'c:/Users/assoma/Desktop/survival_data.csv.gz\\\\053.part',\n",
       " 'c:/Users/assoma/Desktop/survival_data.csv.gz\\\\054.part',\n",
       " 'c:/Users/assoma/Desktop/survival_data.csv.gz\\\\055.part',\n",
       " 'c:/Users/assoma/Desktop/survival_data.csv.gz\\\\056.part',\n",
       " 'c:/Users/assoma/Desktop/survival_data.csv.gz\\\\057.part',\n",
       " 'c:/Users/assoma/Desktop/survival_data.csv.gz\\\\058.part',\n",
       " 'c:/Users/assoma/Desktop/survival_data.csv.gz\\\\059.part',\n",
       " 'c:/Users/assoma/Desktop/survival_data.csv.gz\\\\060.part',\n",
       " 'c:/Users/assoma/Desktop/survival_data.csv.gz\\\\061.part',\n",
       " 'c:/Users/assoma/Desktop/survival_data.csv.gz\\\\062.part',\n",
       " 'c:/Users/assoma/Desktop/survival_data.csv.gz\\\\063.part',\n",
       " 'c:/Users/assoma/Desktop/survival_data.csv.gz\\\\064.part',\n",
       " 'c:/Users/assoma/Desktop/survival_data.csv.gz\\\\065.part',\n",
       " 'c:/Users/assoma/Desktop/survival_data.csv.gz\\\\066.part',\n",
       " 'c:/Users/assoma/Desktop/survival_data.csv.gz\\\\067.part',\n",
       " 'c:/Users/assoma/Desktop/survival_data.csv.gz\\\\068.part',\n",
       " 'c:/Users/assoma/Desktop/survival_data.csv.gz\\\\069.part',\n",
       " 'c:/Users/assoma/Desktop/survival_data.csv.gz\\\\070.part',\n",
       " 'c:/Users/assoma/Desktop/survival_data.csv.gz\\\\071.part',\n",
       " 'c:/Users/assoma/Desktop/survival_data.csv.gz\\\\072.part',\n",
       " 'c:/Users/assoma/Desktop/survival_data.csv.gz\\\\073.part',\n",
       " 'c:/Users/assoma/Desktop/survival_data.csv.gz\\\\074.part',\n",
       " 'c:/Users/assoma/Desktop/survival_data.csv.gz\\\\075.part',\n",
       " 'c:/Users/assoma/Desktop/survival_data.csv.gz\\\\076.part',\n",
       " 'c:/Users/assoma/Desktop/survival_data.csv.gz\\\\077.part',\n",
       " 'c:/Users/assoma/Desktop/survival_data.csv.gz\\\\078.part',\n",
       " 'c:/Users/assoma/Desktop/survival_data.csv.gz\\\\079.part',\n",
       " 'c:/Users/assoma/Desktop/survival_data.csv.gz\\\\080.part',\n",
       " 'c:/Users/assoma/Desktop/survival_data.csv.gz\\\\081.part',\n",
       " 'c:/Users/assoma/Desktop/survival_data.csv.gz\\\\082.part',\n",
       " 'c:/Users/assoma/Desktop/survival_data.csv.gz\\\\083.part',\n",
       " 'c:/Users/assoma/Desktop/survival_data.csv.gz\\\\084.part',\n",
       " 'c:/Users/assoma/Desktop/survival_data.csv.gz\\\\085.part',\n",
       " 'c:/Users/assoma/Desktop/survival_data.csv.gz\\\\086.part',\n",
       " 'c:/Users/assoma/Desktop/survival_data.csv.gz\\\\087.part',\n",
       " 'c:/Users/assoma/Desktop/survival_data.csv.gz\\\\088.part',\n",
       " 'c:/Users/assoma/Desktop/survival_data.csv.gz\\\\089.part',\n",
       " 'c:/Users/assoma/Desktop/survival_data.csv.gz\\\\090.part',\n",
       " 'c:/Users/assoma/Desktop/survival_data.csv.gz\\\\091.part',\n",
       " 'c:/Users/assoma/Desktop/survival_data.csv.gz\\\\092.part',\n",
       " 'c:/Users/assoma/Desktop/survival_data.csv.gz\\\\093.part',\n",
       " 'c:/Users/assoma/Desktop/survival_data.csv.gz\\\\094.part',\n",
       " 'c:/Users/assoma/Desktop/survival_data.csv.gz\\\\095.part',\n",
       " 'c:/Users/assoma/Desktop/survival_data.csv.gz\\\\096.part',\n",
       " 'c:/Users/assoma/Desktop/survival_data.csv.gz\\\\097.part',\n",
       " 'c:/Users/assoma/Desktop/survival_data.csv.gz\\\\098.part',\n",
       " 'c:/Users/assoma/Desktop/survival_data.csv.gz\\\\099.part',\n",
       " 'c:/Users/assoma/Desktop/survival_data.csv.gz\\\\100.part',\n",
       " 'c:/Users/assoma/Desktop/survival_data.csv.gz\\\\101.part']"
      ]
     },
     "execution_count": 25,
     "metadata": {},
     "output_type": "execute_result"
    }
   ],
   "source": [
    "# Write csv in gz format in pipe separated text file (|)\n",
    "dask_df.to_csv('survival_data.csv.gz',\n",
    "          sep='|',\n",
    "          header=True,\n",
    "          index=False,\n",
    "          compression='gzip',\n",
    "          quotechar='\"',\n",
    "          doublequote=True,\n",
    "          line_terminator='\\n')"
   ]
  }
 ],
 "metadata": {
  "kernelspec": {
   "display_name": "Python 3.8.8 ('base')",
   "language": "python",
   "name": "python3"
  },
  "language_info": {
   "codemirror_mode": {
    "name": "ipython",
    "version": 3
   },
   "file_extension": ".py",
   "mimetype": "text/x-python",
   "name": "python",
   "nbconvert_exporter": "python",
   "pygments_lexer": "ipython3",
   "version": "3.8.8"
  },
  "orig_nbformat": 4,
  "vscode": {
   "interpreter": {
    "hash": "8b59d995c4427d2cea6043a8406c1b491c1e4ed98d0bffe4073019aba3a4f775"
   }
  }
 },
 "nbformat": 4,
 "nbformat_minor": 2
}
